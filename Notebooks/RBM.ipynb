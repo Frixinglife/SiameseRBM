{
 "cells": [
  {
   "cell_type": "markdown",
   "id": "03bb4f64",
   "metadata": {},
   "source": [
    "# Распознование рукописных цифр (MNIST) с помощью RBM"
   ]
  },
  {
   "cell_type": "markdown",
   "id": "b57c289c",
   "metadata": {},
   "source": [
    "### 1. Подключение библиотек"
   ]
  },
  {
   "cell_type": "code",
   "execution_count": 1,
   "id": "11dc1efa",
   "metadata": {},
   "outputs": [],
   "source": [
    "import os\n",
    "import torch\n",
    "import torchvision.datasets\n",
    "import torchvision.models\n",
    "import torchvision.transforms\n",
    "import numpy as np\n",
    "from sklearn.linear_model import LogisticRegression\n",
    "import warnings\n",
    "warnings.filterwarnings('ignore')"
   ]
  },
  {
   "cell_type": "markdown",
   "id": "d4721c12",
   "metadata": {},
   "source": [
    "### 2. Загрузка набора данных MNIST"
   ]
  },
  {
   "cell_type": "markdown",
   "id": "9331d4e1",
   "metadata": {},
   "source": [
    "__Скачивание данных в текущую директорию:__"
   ]
  },
  {
   "cell_type": "code",
   "execution_count": 2,
   "id": "efc76e83",
   "metadata": {},
   "outputs": [],
   "source": [
    "dir_name = os.getcwd()"
   ]
  },
  {
   "cell_type": "markdown",
   "id": "37d19c21",
   "metadata": {},
   "source": [
    "__Чтение тренировочной и тестовой выборок набора данных MNIST :__"
   ]
  },
  {
   "cell_type": "markdown",
   "id": "070eb91a",
   "metadata": {},
   "source": [
    "Данные представляются в виде пар __(tuple)__, где первый элемент — изображение в формате __PIL.Image.Image__, а второй — целочисленная метка класса. Параметр __transform__ обеспечивает преобразование изображений в формат __torch.Tensor__ для последующей работы."
   ]
  },
  {
   "cell_type": "code",
   "execution_count": 3,
   "id": "650a3f9a",
   "metadata": {},
   "outputs": [],
   "source": [
    "train_dataset = torchvision.datasets.MNIST(root = dir_name, train = True, \n",
    "download = True, transform = torchvision.transforms.ToTensor())\n",
    "\n",
    "test_dataset = torchvision.datasets.MNIST(root = dir_name, train = False, \n",
    "download = True, transform = torchvision.transforms.ToTensor())"
   ]
  },
  {
   "cell_type": "markdown",
   "id": "5b7bdc5f",
   "metadata": {},
   "source": [
    "__Зададим размер обрабатываемой пачки данных:__"
   ]
  },
  {
   "cell_type": "code",
   "execution_count": 4,
   "id": "ec11c941",
   "metadata": {},
   "outputs": [],
   "source": [
    "batch_size = 64"
   ]
  },
  {
   "cell_type": "markdown",
   "id": "f974f000",
   "metadata": {},
   "source": [
    "__Создадим объекты для последовательной загрузки пачек данных из тренировочной и тестовой выборок:__"
   ]
  },
  {
   "cell_type": "code",
   "execution_count": 5,
   "id": "c7a4b86e",
   "metadata": {},
   "outputs": [],
   "source": [
    "train_loader = torch.utils.data.DataLoader(train_dataset, batch_size = batch_size, shuffle = True)\n",
    "\n",
    "test_loader = torch.utils.data.DataLoader(test_dataset, batch_size = batch_size, shuffle = False)"
   ]
  },
  {
   "cell_type": "markdown",
   "id": "3684fa90",
   "metadata": {},
   "source": [
    "### 3. Создание модели, соответствующей ограниченной машине Больцмана"
   ]
  },
  {
   "cell_type": "markdown",
   "id": "a729cd35",
   "metadata": {},
   "source": [
    "__Зададим количество нейронов видимого слоя:__ 28 * 28 = 784, поскольку изображения имеют размер 28 на 28 пикселей"
   ]
  },
  {
   "cell_type": "code",
   "execution_count": 6,
   "id": "98c2f8f2",
   "metadata": {},
   "outputs": [],
   "source": [
    "visible_units = 28 * 28"
   ]
  },
  {
   "cell_type": "markdown",
   "id": "12131657",
   "metadata": {},
   "source": [
    "__Зададим количество нейронов скрытого слоя:__"
   ]
  },
  {
   "cell_type": "code",
   "execution_count": 7,
   "id": "8fb1625b",
   "metadata": {},
   "outputs": [],
   "source": [
    "hidden_units = 128"
   ]
  },
  {
   "cell_type": "markdown",
   "id": "2f7312cf",
   "metadata": {},
   "source": [
    "__Зададим скорость обучения модели:__"
   ]
  },
  {
   "cell_type": "code",
   "execution_count": 8,
   "id": "f70ed1de",
   "metadata": {},
   "outputs": [],
   "source": [
    "learning_rate = 0.001"
   ]
  },
  {
   "cell_type": "markdown",
   "id": "dedd5f84",
   "metadata": {},
   "source": [
    "__Зададим количество эпох обучения модели:__"
   ]
  },
  {
   "cell_type": "code",
   "execution_count": 9,
   "id": "0548ecd4",
   "metadata": {},
   "outputs": [],
   "source": [
    "num_epochs = 10"
   ]
  },
  {
   "cell_type": "markdown",
   "id": "13c3e4cd",
   "metadata": {},
   "source": [
    "__Зададим параметр алгоритма контрастной дивергенции:__"
   ]
  },
  {
   "cell_type": "code",
   "execution_count": 10,
   "id": "96d1e63b",
   "metadata": {},
   "outputs": [],
   "source": [
    "CD_k = 2"
   ]
  },
  {
   "cell_type": "markdown",
   "id": "02df227d",
   "metadata": {},
   "source": [
    "__Зададим коэффициент затухания весов:__"
   ]
  },
  {
   "cell_type": "code",
   "execution_count": 11,
   "id": "2fe33510",
   "metadata": {},
   "outputs": [],
   "source": [
    "weight_decay = 0.0001"
   ]
  },
  {
   "cell_type": "markdown",
   "id": "cc27506c",
   "metadata": {},
   "source": [
    "__Зададим коэффициент метода импульса:__"
   ]
  },
  {
   "cell_type": "code",
   "execution_count": 12,
   "id": "79fe7402",
   "metadata": {},
   "outputs": [],
   "source": [
    "momentum_coefficient = 0.5"
   ]
  },
  {
   "cell_type": "markdown",
   "id": "25373796",
   "metadata": {},
   "source": [
    "__Подробнее о MNIST__"
   ]
  },
  {
   "cell_type": "markdown",
   "id": "b5918c80",
   "metadata": {},
   "source": [
    "* __train_dataset__ содержит 60.000, а __test_dataset__ — 10.000 изображений в оттенках серого.\n",
    "* Каждый пиксель изображения принимает действительное значение в отрезке от 0 до 1.\n",
    "* При __batch_size = 64__ обучение модели займет 937 итераций (64 * 937 = 59968) с размером пачки 64 и одну итерацию с размером пачки 32."
   ]
  },
  {
   "cell_type": "markdown",
   "id": "c0034c04",
   "metadata": {},
   "source": [
    "__Создадим класс сети, соответствующей ограниченной машине Больцмана:__"
   ]
  },
  {
   "cell_type": "code",
   "execution_count": 13,
   "id": "5214e068",
   "metadata": {},
   "outputs": [],
   "source": [
    "class RBM():\n",
    "    # Конструктор\n",
    "    def __init__(self, num_visible, num_hidden, k, learning_rate, momentum_coefficient, weight_decay):\n",
    "        # Задаем количество нейронов видимого и скрытого слоев, параметр алгоритма\n",
    "        # контрастной дивергенции, скорость обучения модели, коэффициенты\n",
    "        # затухания весов и метода импульса\n",
    "        self.num_visible = num_visible\n",
    "        self.num_hidden = num_hidden\n",
    "        self.k = k\n",
    "        self.learning_rate = learning_rate\n",
    "        self.weight_decay = weight_decay\n",
    "        self.momentum_coefficient = momentum_coefficient\n",
    "\n",
    "        # Задаем вектора смещений и матрицу связей (заполняем их случайными\n",
    "        # числами из стандартного нормального распределения)\n",
    "        self.weights = torch.randn(num_visible, num_hidden)\n",
    "        self.visible_bias = torch.randn(num_visible)\n",
    "        self.hidden_bias = torch.randn(num_hidden)\n",
    "        \n",
    "        # Задаем вектора смещений и матрицу связей для метода моментов\n",
    "        # (заполняем их нулями)\n",
    "        self.weights_momentum = torch.zeros(num_visible, num_hidden)\n",
    "        self.visible_bias_momentum = torch.zeros(num_visible)\n",
    "        self.hidden_bias_momentum = torch.zeros(num_hidden)\n",
    "\n",
    "    # Будем считать, что W - матрица связей, a и b - вектора смещений \n",
    "    # для видимых и скрытых нейронов соответственно, v - вектор состояния\n",
    "    # нейронов видимого слоя, h - вектор состояний нейронов скрытого слоя\n",
    "    \n",
    "    # Тогда, в соответствии с введенными обозначениями:\n",
    "    \n",
    "    # Функция принимает на вход вектор v и вычисляет вектор p(h|v) = sigmoid(v * W + b)\n",
    "    def sample_hidden(self, visible_probabilities):\n",
    "        # visible_probabilities ∈ R^(64 × 784) на всех итерациях, кроме последней (на ней 32 × 784)\n",
    "        # W ∈ R^(784 × 128), b ∈ R^(1 × 128), visible_probabilities * W ∈ R^(64 × 128)\n",
    "        # visible_probabilities * W + b ∈ R^(64 × 128), т.е вектор смещений b прибавляется\n",
    "        # к каждой строчке (каждому изображению, поскольку их на данной итерации как раз 64)\n",
    "        hidden_activations = torch.matmul(visible_probabilities, self.weights) + self.hidden_bias\n",
    "        \n",
    "        # sigmoid вычисляется от каждого элемента полученной на предыдущем шаге матрицы\n",
    "        hidden_probabilities = self._sigmoid(hidden_activations)\n",
    "        \n",
    "        return hidden_probabilities # ∈ R^(64 × 128)\n",
    "    \n",
    "    # Функция принимает на вход вектор h и вычисляет вектор p(v|h) = sigmoid(h * W^T + a)\n",
    "    def sample_visible(self, hidden_probabilities):\n",
    "        # hidden_probabilities ∈ R^(64 × 128) на всех итерациях, кроме последней (на ней 32 × 128)\n",
    "        # W^T ∈ R^(128 × 784), a ∈ R^(1 × 784), hidden_probabilities * W^T ∈ R^(64 × 784)\n",
    "        # hidden_probabilities * W^T + a ∈ R^(64 × 784), т.е вектор смещений a прибавляется\n",
    "        # к каждой строчке (каждому изображению, поскольку их на данной итерации как раз 64)\n",
    "        visible_activations = torch.matmul(hidden_probabilities, self.weights.t()) + self.visible_bias\n",
    "        \n",
    "        # sigmoid вычисляется от каждого элемента полученной на предыдущем шаге матрицы\n",
    "        visible_probabilities = self._sigmoid(visible_activations)\n",
    "        \n",
    "        return visible_probabilities # ∈ R^(64 × 784)\n",
    "    \n",
    "    # Стоит отметить тот факт, что данные формулы для вычисления условных вероятностей\n",
    "    # отличаются от стандартных: p(h|v) = sigmoid(W^T * v + b) и p(v|h) = sigmoid(W * h + a)\n",
    "    # Это происходит из-за того, что в данной реализации считается, что вектора - это строки,\n",
    "    # а не столбцы, и если данные выражения для условных вероятностей транспонировать, то\n",
    "    # можно убедиться, что формулы согласуются с теорией\n",
    "    \n",
    "    def contrastive_divergence(self, input_data):\n",
    "        # Вычисляем вектор p(h|v)\n",
    "        # input_data ∈ R^(64 × 784)\n",
    "        positive_hidden_probabilities = self.sample_hidden(input_data) # ∈ R^(64 × 128)\n",
    "        \n",
    "        # Активируем нейроны следующим способом:\n",
    "        # Генерируется вектор с той же длины с случайными числами\n",
    "        # из стандартного нормального распределения, после чего\n",
    "        # вектор p(h|v), полученный ранее, покомпонентно с ним сравнивается,\n",
    "        # в результате чего получаем вектор, состоящий из 0 и 1, где 1 соответствует\n",
    "        # нейрону, который активировался\n",
    "        \n",
    "        # positive_hidden_probabilities ∈ R^(64 × 128), _random_probabilities ∈ R^(1 × 128), из-за чего он будет вызван 64 раза\n",
    "        # полученный вектор будет состоять из 1.0 и 0.0 (без .float() было бы True и False)\n",
    "        positive_hidden_activations = (positive_hidden_probabilities \n",
    "                                       >= self._random_probabilities(self.num_hidden)).float() # ∈ R^(64 × 128)\n",
    "        \n",
    "        # Входные данные транспонируются и умножаются на вектор из 0 и 1, полученный выше\n",
    "        # input_data^T ∈ R^(784 × 64), positive_hidden_activations ∈ R^(64 × 128)\n",
    "        positive_associations = torch.matmul(input_data.t(), positive_hidden_activations) # ∈ R^(784 × 128)\n",
    "\n",
    "        # Задаем начальный вектор h для алгоритма контрастной дивергенции\n",
    "        hidden_activations = positive_hidden_activations  # ∈ R^(64 × 128)\n",
    "        \n",
    "        # Цикл по шагам алгоритма контрастной дивергенции\n",
    "        for step in range(self.k):\n",
    "            # Вычисляем вектор p(v|h)\n",
    "            visible_probabilities = self.sample_visible(hidden_activations) # ∈ R^(64 × 784)\n",
    "            \n",
    "            # Вычисляем вектор p(h|v), на основе предыдущего вектора\n",
    "            hidden_probabilities = self.sample_hidden(visible_probabilities) # ∈ R^(64 × 128)\n",
    "            \n",
    "            # Активируем скрытые нейроны и обновляем вектор h\n",
    "            hidden_activations = (hidden_probabilities >= self._random_probabilities(self.num_hidden)).float() # ∈ R^(64 × 128)\n",
    "        \n",
    "        # Там, где стоит probabilities, вектора содержат вероятности от 0 до 1, а где activations - только 0 или 1\n",
    "        \n",
    "        # Запоминаем в отдельные переменные последние полученные вектора вероятностей p(v|h) и p(h|v)\n",
    "        negative_visible_probabilities = visible_probabilities # ∈ R^(64 × 784)\n",
    "        negative_hidden_probabilities = hidden_probabilities # ∈ R^(64 × 128)\n",
    "        \n",
    "        # Аналогично вычислению positive_associations\n",
    "        negative_associations = torch.matmul(negative_visible_probabilities.t(), negative_hidden_probabilities)# ∈ R^(784 × 128)\n",
    "\n",
    "        # Обновление параметров\n",
    "        # Пересчет вспомогательной матрицы весов\n",
    "        self.weights_momentum *= self.momentum_coefficient # ∈ R^(784 × 128)\n",
    "        self.weights_momentum += (positive_associations - negative_associations) # ∈ R^(784 × 128)\n",
    "        \n",
    "        # Пересчет вспомогательного вектора сдвига видимых нейронов\n",
    "        self.visible_bias_momentum *= self.momentum_coefficient # ∈ R^(1 × 784)\n",
    "        self.visible_bias_momentum += torch.sum(input_data - negative_visible_probabilities, dim=0) # ∈ R^(1 × 784)\n",
    "        \n",
    "        # Пересчет вспомогательного вектора сдвига скрытых нейронов\n",
    "        self.hidden_bias_momentum *= self.momentum_coefficient # ∈ R^(1 × 128)\n",
    "        self.hidden_bias_momentum += torch.sum(positive_hidden_probabilities - negative_hidden_probabilities, dim=0)\n",
    "        # ∈ R^(1 × 128)\n",
    "        \n",
    "        # Запоминаем текущий размер обрабатываемой пачки данных\n",
    "        batch_size = input_data.size(0)\n",
    "        \n",
    "        # Обновление основных параметров модели (матрицы весов и векторов сдвигов вдимых и скрытых нейронов)\n",
    "        self.weights += self.weights_momentum * self.learning_rate / batch_size\n",
    "        self.visible_bias += self.visible_bias_momentum * self.learning_rate / batch_size\n",
    "        self.hidden_bias += self.hidden_bias_momentum * self.learning_rate / batch_size\n",
    "        \n",
    "        # Решение проблемы затухания весов\n",
    "        self.weights -= self.weights * self.weight_decay  \n",
    "\n",
    "        # Вычисление квадратичной ошибки\n",
    "        error = torch.sum((input_data - negative_visible_probabilities)**2)\n",
    "\n",
    "        return error\n",
    "    \n",
    "\n",
    "    # Задаем сигмоидальную функцию: 1 / (1 + e^(-x))\n",
    "    def _sigmoid(self, x):\n",
    "        return 1 / (1 + torch.exp(-x))\n",
    "    \n",
    "    # Данная функция создает вектор длины num, заполняет его случайными \n",
    "    # числами из стандартного нормального распределения и возвращает его\n",
    "    def _random_probabilities(self, num): \n",
    "        return torch.rand(num)\n",
    "    \n",
    "    # Одно нижнее подчеркивание фактически означает, что данные методы \n",
    "    # имеют спецификатор доступа protected (но это считается на уровне \n",
    "    # соглашения, данные методы можно вызвать вне класса)"
   ]
  },
  {
   "cell_type": "markdown",
   "id": "5ce5ed24",
   "metadata": {},
   "source": [
    "__Создадим объект разработанного класса:__"
   ]
  },
  {
   "cell_type": "code",
   "execution_count": 14,
   "id": "2ccc37a0",
   "metadata": {},
   "outputs": [],
   "source": [
    "rbm = RBM(visible_units, hidden_units, CD_k, learning_rate, momentum_coefficient, weight_decay)"
   ]
  },
  {
   "cell_type": "markdown",
   "id": "d2c3f5ae",
   "metadata": {},
   "source": [
    "### 3. Обучение построенной модели"
   ]
  },
  {
   "cell_type": "markdown",
   "id": "fc8884d7",
   "metadata": {},
   "source": [
    "__Обучим модель:__"
   ]
  },
  {
   "cell_type": "code",
   "execution_count": 15,
   "id": "60dbc88d",
   "metadata": {},
   "outputs": [
    {
     "name": "stdout",
     "output_type": "stream",
     "text": [
      "Epoch error (epoch = 1): 8969122.0000\n",
      "Epoch error (epoch = 2): 5041285.0000\n",
      "Epoch error (epoch = 3): 4109471.5000\n",
      "Epoch error (epoch = 4): 3563144.0000\n",
      "Epoch error (epoch = 5): 3180193.7500\n",
      "Epoch error (epoch = 6): 2892092.5000\n",
      "Epoch error (epoch = 7): 2663455.5000\n",
      "Epoch error (epoch = 8): 2476906.0000\n",
      "Epoch error (epoch = 9): 2323418.7500\n",
      "Epoch error (epoch = 10): 2197613.2500\n",
      "Wall time: 1min 26s\n"
     ]
    }
   ],
   "source": [
    "%%time\n",
    "# Цикл по эпохам\n",
    "for epoch in range(num_epochs):\n",
    "    # Полученная ошибка для текущей эпохи\n",
    "    epoch_error = 0.0\n",
    "    \n",
    "    # Проход по всем пачкам данных\n",
    "    for batch, _ in train_loader: \n",
    "        # Формирование пачки данных\n",
    "        batch = batch.view(len(batch), visible_units)\n",
    "        # Вычисление ошибки алгоритма контрастной дивергенции\n",
    "        # на текущей пачке данных\n",
    "        batch_error = rbm.contrastive_divergence(batch)\n",
    "        # Обновление ошибки текущей эпохи\n",
    "        epoch_error += batch_error\n",
    "\n",
    "    print('Epoch error (epoch = %d): %.4f' % (epoch + 1, epoch_error))"
   ]
  },
  {
   "cell_type": "code",
   "execution_count": 16,
   "id": "7b2da7d4",
   "metadata": {},
   "outputs": [],
   "source": [
    "# X_train, y_train\n",
    "train_features = np.zeros((len(train_dataset), hidden_units))\n",
    "train_labels = np.zeros(len(train_dataset))\n",
    "\n",
    "# X_test, y_test\n",
    "test_features = np.zeros((len(test_dataset), hidden_units))\n",
    "test_labels = np.zeros(len(test_dataset))\n",
    "\n",
    "# Цикл по обучающей выборке\n",
    "for i, (batch, labels) in enumerate(train_loader):\n",
    "    # Формирование пачки данных\n",
    "    batch = batch.view(len(batch), visible_units)\n",
    "    # В X_train записываются p(h|v), полученные с помощью обученной RBM\n",
    "    train_features[i*batch_size:i*batch_size+len(batch)] = rbm.sample_hidden(batch).numpy()\n",
    "    # В y_train присваиваются метки классов\n",
    "    train_labels[i*batch_size:i*batch_size+len(batch)] = labels.numpy()\n",
    "\n",
    "# Цикл по тестовой выборке\n",
    "for i, (batch, labels) in enumerate(test_loader):\n",
    "    # Формирование пачки данных\n",
    "    batch = batch.view(len(batch), visible_units)\n",
    "    # В X_test записываются p(h|v), полученные с помощью обученной RBM\n",
    "    test_features[i*batch_size:i*batch_size+len(batch)] = rbm.sample_hidden(batch).numpy()\n",
    "    # В y_test присваиваются метки классов\n",
    "    test_labels[i*batch_size:i*batch_size+len(batch)] = labels.numpy()"
   ]
  },
  {
   "cell_type": "code",
   "execution_count": 17,
   "id": "abb95759",
   "metadata": {},
   "outputs": [
    {
     "name": "stdout",
     "output_type": "stream",
     "text": [
      "Ошибка на обучающей выборке:  0.0897\n",
      "Ошибка на тестовой выборке:  0.0938\n"
     ]
    }
   ],
   "source": [
    "# Логистическая регрессия\n",
    "model = LogisticRegression(solver = 'lbfgs', max_iter = 1000).fit(train_features, train_labels)\n",
    "predictions = model.predict(test_features)\n",
    "\n",
    "err_train = np.mean(train_labels != model.predict(train_features))\n",
    "err_test  = np.mean(test_labels  != model.predict(test_features))\n",
    "\n",
    "print('Ошибка на обучающей выборке: ', err_train)\n",
    "print('Ошибка на тестовой выборке: ', err_test)"
   ]
  }
 ],
 "metadata": {
  "kernelspec": {
   "display_name": "Python 3 (ipykernel)",
   "language": "python",
   "name": "python3"
  },
  "language_info": {
   "codemirror_mode": {
    "name": "ipython",
    "version": 3
   },
   "file_extension": ".py",
   "mimetype": "text/x-python",
   "name": "python",
   "nbconvert_exporter": "python",
   "pygments_lexer": "ipython3",
   "version": "3.9.7"
  }
 },
 "nbformat": 4,
 "nbformat_minor": 5
}
