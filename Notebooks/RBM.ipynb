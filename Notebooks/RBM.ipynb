{
 "cells": [
  {
   "cell_type": "markdown",
   "id": "03bb4f64",
   "metadata": {},
   "source": [
    "# Распознование рукописных цифр (MNIST) с помощью RBM"
   ]
  },
  {
   "cell_type": "markdown",
   "id": "b57c289c",
   "metadata": {},
   "source": [
    "### 1. Подключение библиотек"
   ]
  },
  {
   "cell_type": "code",
   "execution_count": 1,
   "id": "11dc1efa",
   "metadata": {},
   "outputs": [],
   "source": [
    "import os\n",
    "import torch\n",
    "import torchvision.datasets\n",
    "import torchvision.models\n",
    "import torchvision.transforms\n",
    "import numpy as np\n",
    "from sklearn.linear_model import LogisticRegression\n",
    "import warnings\n",
    "warnings.filterwarnings('ignore')"
   ]
  },
  {
   "cell_type": "markdown",
   "id": "d4721c12",
   "metadata": {},
   "source": [
    "### 2. Загрузка набора данных MNIST"
   ]
  },
  {
   "cell_type": "markdown",
   "id": "9331d4e1",
   "metadata": {},
   "source": [
    "__Скачивание данных в текущую директорию:__"
   ]
  },
  {
   "cell_type": "code",
   "execution_count": 2,
   "id": "efc76e83",
   "metadata": {},
   "outputs": [],
   "source": [
    "dir_name = os.getcwd()"
   ]
  },
  {
   "cell_type": "markdown",
   "id": "37d19c21",
   "metadata": {},
   "source": [
    "__Чтение тренировочной и тестовой выборок набора данных MNIST :__"
   ]
  },
  {
   "cell_type": "markdown",
   "id": "070eb91a",
   "metadata": {},
   "source": [
    "Данные представляются в виде пар __(tuple)__, где первый элемент — изображение в формате __PIL.Image.Image__, а второй — целочисленная метка класса. Параметр __transform__ обеспечивает преобразование изображений в формат __torch.Tensor__ для последующей работы."
   ]
  },
  {
   "cell_type": "code",
   "execution_count": 3,
   "id": "650a3f9a",
   "metadata": {},
   "outputs": [],
   "source": [
    "train_dataset = torchvision.datasets.MNIST(root = dir_name, train = True, \n",
    "download = True, transform = torchvision.transforms.ToTensor())\n",
    "\n",
    "test_dataset = torchvision.datasets.MNIST(root = dir_name, train = False, \n",
    "download = True, transform = torchvision.transforms.ToTensor())"
   ]
  },
  {
   "cell_type": "markdown",
   "id": "5b7bdc5f",
   "metadata": {},
   "source": [
    "__Зададим размер обрабатываемой пачки данных:__"
   ]
  },
  {
   "cell_type": "code",
   "execution_count": 4,
   "id": "ec11c941",
   "metadata": {},
   "outputs": [],
   "source": [
    "batch_size = 64"
   ]
  },
  {
   "cell_type": "markdown",
   "id": "f974f000",
   "metadata": {},
   "source": [
    "__Создадим объекты для последовательной загрузки пачек данных из тренировочной и тестовой выборок:__"
   ]
  },
  {
   "cell_type": "code",
   "execution_count": 5,
   "id": "c7a4b86e",
   "metadata": {},
   "outputs": [],
   "source": [
    "train_loader = torch.utils.data.DataLoader(train_dataset, batch_size = batch_size, shuffle = True)\n",
    "\n",
    "test_loader = torch.utils.data.DataLoader(test_dataset, batch_size = batch_size, shuffle = False)"
   ]
  },
  {
   "cell_type": "markdown",
   "id": "3684fa90",
   "metadata": {},
   "source": [
    "### 3. Создание модели, соответствующей ограниченной машине Больцмана"
   ]
  },
  {
   "cell_type": "markdown",
   "id": "a729cd35",
   "metadata": {},
   "source": [
    "__Зададим количество нейронов видимого слоя:__ 28 * 28 = 784, поскольку изображения имеют размер 28 на 28 пикселей"
   ]
  },
  {
   "cell_type": "code",
   "execution_count": 6,
   "id": "98c2f8f2",
   "metadata": {},
   "outputs": [],
   "source": [
    "visible_units = 28 * 28"
   ]
  },
  {
   "cell_type": "markdown",
   "id": "12131657",
   "metadata": {},
   "source": [
    "__Зададим количество нейронов скрытого слоя:__"
   ]
  },
  {
   "cell_type": "code",
   "execution_count": 7,
   "id": "8fb1625b",
   "metadata": {},
   "outputs": [],
   "source": [
    "hidden_units = 128"
   ]
  },
  {
   "cell_type": "markdown",
   "id": "2f7312cf",
   "metadata": {},
   "source": [
    "__Зададим скорость обучения модели:__"
   ]
  },
  {
   "cell_type": "code",
   "execution_count": 8,
   "id": "f70ed1de",
   "metadata": {},
   "outputs": [],
   "source": [
    "learning_rate = 0.001"
   ]
  },
  {
   "cell_type": "markdown",
   "id": "dedd5f84",
   "metadata": {},
   "source": [
    "__Зададим количество эпох обучения модели:__"
   ]
  },
  {
   "cell_type": "code",
   "execution_count": 9,
   "id": "0548ecd4",
   "metadata": {},
   "outputs": [],
   "source": [
    "num_epochs = 10"
   ]
  },
  {
   "cell_type": "markdown",
   "id": "13c3e4cd",
   "metadata": {},
   "source": [
    "__Зададим параметр алгоритма контрастной дивергенции:__"
   ]
  },
  {
   "cell_type": "code",
   "execution_count": 10,
   "id": "96d1e63b",
   "metadata": {},
   "outputs": [],
   "source": [
    "CD_k = 2"
   ]
  },
  {
   "cell_type": "markdown",
   "id": "02df227d",
   "metadata": {},
   "source": [
    "__Зададим коэффициент затухания весов:__"
   ]
  },
  {
   "cell_type": "code",
   "execution_count": 11,
   "id": "2fe33510",
   "metadata": {},
   "outputs": [],
   "source": [
    "weight_decay = 0.0001"
   ]
  },
  {
   "cell_type": "markdown",
   "id": "cc27506c",
   "metadata": {},
   "source": [
    "__Зададим коэффициент метода импульса:__"
   ]
  },
  {
   "cell_type": "code",
   "execution_count": 12,
   "id": "79fe7402",
   "metadata": {},
   "outputs": [],
   "source": [
    "momentum_coefficient = 0.5"
   ]
  },
  {
   "cell_type": "markdown",
   "id": "c0034c04",
   "metadata": {},
   "source": [
    "__Создадим класс сети, соответствующей ограниченной машине Больцмана:__"
   ]
  },
  {
   "cell_type": "code",
   "execution_count": 13,
   "id": "5214e068",
   "metadata": {},
   "outputs": [],
   "source": [
    "class RBM():\n",
    "    # Конструктор\n",
    "    def __init__(self, num_visible, num_hidden, k, learning_rate, momentum_coefficient, weight_decay):\n",
    "        # Задаем количество нейронов видимого и скрытого слоев, параметр алгоритма\n",
    "        # контрастной дивергенции, скорость обучения модели, коэффициенты\n",
    "        # затухания весов и метода импульса\n",
    "        self.num_visible = num_visible\n",
    "        self.num_hidden = num_hidden\n",
    "        self.k = k\n",
    "        self.learning_rate = learning_rate\n",
    "        self.weight_decay = weight_decay\n",
    "        self.momentum_coefficient = momentum_coefficient\n",
    "\n",
    "        # Задаем вектора смещений и матрицу связей (заполняем их случайными\n",
    "        # числами из стандартного нормального распределения)\n",
    "        self.weights = torch.randn(num_visible, num_hidden)\n",
    "        self.visible_bias = torch.randn(num_visible)\n",
    "        self.hidden_bias = torch.randn(num_hidden)\n",
    "        \n",
    "        # Задаем вектора смещений и матрицу связей для метода моментов\n",
    "        # (заполняем их нулями)\n",
    "        self.weights_momentum = torch.zeros(num_visible, num_hidden)\n",
    "        self.visible_bias_momentum = torch.zeros(num_visible)\n",
    "        self.hidden_bias_momentum = torch.zeros(num_hidden)\n",
    "\n",
    "    # Будем считать, что W - матрица связей, a и b - вектора смещений \n",
    "    # для видимых и скрытых нейронов соответственно, v - вектор состояния\n",
    "    # нейронов видимого слоя, h - вектор состояний нейронов скрытого слоя\n",
    "    \n",
    "    # Тогда, в соответствии с введенными обозначениями:\n",
    "    \n",
    "    # Функция принимает на вход вектор v и вычисляет вектор p(h|v) = sigmoid(v * W + b)\n",
    "    def sample_hidden(self, visible_probabilities):\n",
    "        hidden_activations = torch.matmul(visible_probabilities, self.weights) + self.hidden_bias\n",
    "        hidden_probabilities = self._sigmoid(hidden_activations)\n",
    "        return hidden_probabilities\n",
    "    \n",
    "    # Функция принимает на вход вектор h и вычисляет вектор p(v|h) = sigmoid(h * W^T + a)\n",
    "    def sample_visible(self, hidden_probabilities):\n",
    "        visible_activations = torch.matmul(hidden_probabilities, self.weights.t()) + self.visible_bias\n",
    "        visible_probabilities = self._sigmoid(visible_activations)\n",
    "        return visible_probabilities\n",
    "    \n",
    "    # Стоит отметить тот факт, что данные формулы для вычисления условных вероятностей\n",
    "    # отличаются от стандартных: p(h|v) = sigmoid(W^T * v + b) и p(v|h) = sigmoid(W * h + a)\n",
    "    # Это происходит из-за того, что в данной реализации считается, что вектора - это строки,\n",
    "    # а не столбцы, и если данные выражения для условных вероятностей транспонировать, то\n",
    "    # можно убедиться, что формулы согласуются с теорией\n",
    "    \n",
    "    def contrastive_divergence(self, input_data):\n",
    "        # Вычисляем вектор p(h|v)\n",
    "        positive_hidden_probabilities = self.sample_hidden(input_data)\n",
    "        \n",
    "        # Активируем нейроны следующим способом:\n",
    "        # Генерируется вектор с той же длинны с случайными числами\n",
    "        # из стандартного нормального распределения, после чего\n",
    "        # вектор p(h|v), полученный ранее, покомпонентно с ним сравнивается,\n",
    "        # в результате чего получаем вектор, состоящий из 0 и 1, где 1 соответствует\n",
    "        # нейрону, который активировался\n",
    "        positive_hidden_activations = (positive_hidden_probabilities >= self._random_probabilities(self.num_hidden)).float()\n",
    "        \n",
    "        # \n",
    "        positive_associations = torch.matmul(input_data.t(), positive_hidden_activations)\n",
    "\n",
    "        # Negative phase\n",
    "        hidden_activations = positive_hidden_activations\n",
    "\n",
    "        for step in range(self.k):\n",
    "            visible_probabilities = self.sample_visible(hidden_activations)\n",
    "            hidden_probabilities = self.sample_hidden(visible_probabilities)\n",
    "            hidden_activations = (hidden_probabilities >= self._random_probabilities(self.num_hidden)).float()\n",
    "\n",
    "        negative_visible_probabilities = visible_probabilities\n",
    "        negative_hidden_probabilities = hidden_probabilities\n",
    "\n",
    "        negative_associations = torch.matmul(negative_visible_probabilities.t(), negative_hidden_probabilities)\n",
    "\n",
    "        # Update parameters\n",
    "        self.weights_momentum *= self.momentum_coefficient\n",
    "        self.weights_momentum += (positive_associations - negative_associations)\n",
    "\n",
    "        self.visible_bias_momentum *= self.momentum_coefficient\n",
    "        self.visible_bias_momentum += torch.sum(input_data - negative_visible_probabilities, dim=0)\n",
    "\n",
    "        self.hidden_bias_momentum *= self.momentum_coefficient\n",
    "        self.hidden_bias_momentum += torch.sum(positive_hidden_probabilities - negative_hidden_probabilities, dim=0)\n",
    "\n",
    "        batch_size = input_data.size(0)\n",
    "\n",
    "        self.weights += self.weights_momentum * self.learning_rate / batch_size\n",
    "        self.visible_bias += self.visible_bias_momentum * self.learning_rate / batch_size\n",
    "        self.hidden_bias += self.hidden_bias_momentum * self.learning_rate / batch_size\n",
    "\n",
    "        self.weights -= self.weights * self.weight_decay  # L2 weight decay\n",
    "\n",
    "        # Вычисление квадратичной ошибки\n",
    "        error = torch.sum((input_data - negative_visible_probabilities)**2)\n",
    "\n",
    "        return error\n",
    "    \n",
    "\n",
    "    # Задаем сигмоидальную функцию: 1 / (1 + e^(-x))\n",
    "    def _sigmoid(self, x):\n",
    "        return 1 / (1 + torch.exp(-x))\n",
    "    \n",
    "    # Данная функция создает вектор длины num, заполняет его случайными \n",
    "    # числами из стандартного нормального распределения и возвращает его\n",
    "    def _random_probabilities(self, num): \n",
    "        return torch.rand(num)\n",
    "    \n",
    "    # Одно нижнее подчеркивание фактически означает, что данные методы \n",
    "    # имеют спецификатор доступа protected (но это считается на уровне \n",
    "    # соглашения, данные методы можно вызвать вне класса)"
   ]
  },
  {
   "cell_type": "markdown",
   "id": "5ce5ed24",
   "metadata": {},
   "source": [
    "__Создадим объект разработанного класса:__"
   ]
  },
  {
   "cell_type": "code",
   "execution_count": 14,
   "id": "2ccc37a0",
   "metadata": {},
   "outputs": [],
   "source": [
    "rbm = RBM(visible_units, hidden_units, CD_k, learning_rate, momentum_coefficient, weight_decay)"
   ]
  },
  {
   "cell_type": "markdown",
   "id": "d2c3f5ae",
   "metadata": {},
   "source": [
    "### 3. Обучение построенной модели"
   ]
  },
  {
   "cell_type": "markdown",
   "id": "fc8884d7",
   "metadata": {},
   "source": [
    "__Обучим модель:__"
   ]
  },
  {
   "cell_type": "code",
   "execution_count": 15,
   "id": "60dbc88d",
   "metadata": {},
   "outputs": [
    {
     "name": "stdout",
     "output_type": "stream",
     "text": [
      "Epoch error (epoch = 1): 8811007.0000\n",
      "Epoch error (epoch = 2): 4942183.0000\n",
      "Epoch error (epoch = 3): 3994426.5000\n",
      "Epoch error (epoch = 4): 3441513.2500\n",
      "Epoch error (epoch = 5): 3060120.0000\n",
      "Epoch error (epoch = 6): 2779013.2500\n",
      "Epoch error (epoch = 7): 2560873.0000\n",
      "Epoch error (epoch = 8): 2390059.5000\n",
      "Epoch error (epoch = 9): 2255230.2500\n",
      "Epoch error (epoch = 10): 2151300.7500\n",
      "Wall time: 1min 10s\n"
     ]
    }
   ],
   "source": [
    "%%time\n",
    "for epoch in range(num_epochs): # проход по эпохам\n",
    "    epoch_error = 0.0\n",
    "    \n",
    "    for batch, _ in train_loader:\n",
    "        batch = batch.view(len(batch), visible_units)\n",
    "        batch_error = rbm.contrastive_divergence(batch)\n",
    "        epoch_error += batch_error\n",
    "\n",
    "    print('Epoch error (epoch = %d): %.4f' % (epoch + 1, epoch_error))"
   ]
  },
  {
   "cell_type": "code",
   "execution_count": 16,
   "id": "7b2da7d4",
   "metadata": {},
   "outputs": [],
   "source": [
    "train_features = np.zeros((len(train_dataset), hidden_units))\n",
    "train_labels = np.zeros(len(train_dataset))\n",
    "test_features = np.zeros((len(test_dataset), hidden_units))\n",
    "test_labels = np.zeros(len(test_dataset))\n",
    "\n",
    "for i, (batch, labels) in enumerate(train_loader):\n",
    "    batch = batch.view(len(batch), visible_units)\n",
    "    train_features[i*batch_size:i*batch_size+len(batch)] = rbm.sample_hidden(batch).numpy()\n",
    "    train_labels[i*batch_size:i*batch_size+len(batch)] = labels.numpy()\n",
    "\n",
    "for i, (batch, labels) in enumerate(test_loader):\n",
    "    batch = batch.view(len(batch), visible_units)\n",
    "    test_features[i*batch_size:i*batch_size+len(batch)] = rbm.sample_hidden(batch).numpy()\n",
    "    test_labels[i*batch_size:i*batch_size+len(batch)] = labels.numpy()"
   ]
  },
  {
   "cell_type": "code",
   "execution_count": 17,
   "id": "abb95759",
   "metadata": {},
   "outputs": [
    {
     "name": "stdout",
     "output_type": "stream",
     "text": [
      "Result: 9141/10000\n"
     ]
    }
   ],
   "source": [
    "clf = LogisticRegression(solver = 'lbfgs', max_iter = 1000)\n",
    "clf.fit(train_features, train_labels)\n",
    "predictions = clf.predict(test_features)\n",
    "\n",
    "print('Result: %d/%d' % (sum(predictions == test_labels), test_labels.shape[0]))"
   ]
  }
 ],
 "metadata": {
  "kernelspec": {
   "display_name": "Python 3 (ipykernel)",
   "language": "python",
   "name": "python3"
  },
  "language_info": {
   "codemirror_mode": {
    "name": "ipython",
    "version": 3
   },
   "file_extension": ".py",
   "mimetype": "text/x-python",
   "name": "python",
   "nbconvert_exporter": "python",
   "pygments_lexer": "ipython3",
   "version": "3.9.7"
  }
 },
 "nbformat": 4,
 "nbformat_minor": 5
}
